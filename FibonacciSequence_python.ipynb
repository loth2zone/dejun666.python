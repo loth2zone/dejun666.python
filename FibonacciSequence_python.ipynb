{
  "nbformat": 4,
  "nbformat_minor": 0,
  "metadata": {
    "colab": {
      "name": "FibonacciSequence_python.ipynb",
      "provenance": [],
      "authorship_tag": "ABX9TyNYAUCdRZy29wZpN7Z+z85f",
      "include_colab_link": true
    },
    "kernelspec": {
      "name": "python3",
      "display_name": "Python 3"
    }
  },
  "cells": [
    {
      "cell_type": "markdown",
      "metadata": {
        "id": "view-in-github",
        "colab_type": "text"
      },
      "source": [
        "<a href=\"https://colab.research.google.com/github/loth2zone/dejun666.python/blob/master/FibonacciSequence_python.ipynb\" target=\"_parent\"><img src=\"https://colab.research.google.com/assets/colab-badge.svg\" alt=\"Open In Colab\"/></a>"
      ]
    },
    {
      "cell_type": "markdown",
      "metadata": {
        "id": "xZza1mnqdM2h"
      },
      "source": [
        "# **用Python寫出費式數列，並回答3個問題。**\n",
        "\n",
        "公元1150年印度數學家Gopala和金月在研究箱子包裝物件長寬剛好為1和2的可行方法數目時，首先描述這個數列。在西方，最先研究這個數列的人是比薩的李奧納多（義大利人斐波那契Leonardo Fibonacci），他描述兔子生長的數目時用上了這數列:\n",
        "\n",
        "兔子對的數量就是費氏數列，\n",
        "第一個月初有一對剛誕生的兔子，\n",
        "第二個月之後（第三個月初）牠們可以生育，\n",
        "每月每對可生育的兔子會誕生下一對新兔子，\n",
        "且兔子永不死去。\n",
        "\n",
        "假設在n月有兔子總共a對，n+1月總共有b對。在n+2月必定總共有a+b對，因為在n+2月的時候，前一月（n+1月）的b對兔子可以存留至第n+2月（在當月屬於新誕生的兔子尚不能生育），而新生育出的兔子對數等於所有在n月就已存在的a對。\n",
        "\n",
        "在數學上，費氏數列是以遞迴的方法來定義：\n",
        "# 新增區段\n",
        "![擷取.PNG](data:image/png;base64,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)\n"
      ]
    },
    {
      "cell_type": "markdown",
      "metadata": {
        "id": "67kTAY7pamMl"
      },
      "source": [
        "# **問題1. 請用Python及遞迴寫出費氏數列函式**\n",
        "\n"
      ]
    },
    {
      "cell_type": "code",
      "metadata": {
        "id": "vFxsXIvLbBtH"
      },
      "source": [
        "def fs(n):\n",
        "  if (type(n)==int):\n",
        "    if n>=0 and n<2:\n",
        "      return n\n",
        "    else:\n",
        "      return fs(n-2)+fs(n-1)"
      ],
      "execution_count": 10,
      "outputs": []
    },
    {
      "cell_type": "markdown",
      "metadata": {
        "id": "Wil1SSN_bFih"
      },
      "source": [
        "# **問題2. 請列出費氏數列的前10個數字 (從0開始)**"
      ]
    },
    {
      "cell_type": "code",
      "metadata": {
        "id": "VlLzZAVobLla",
        "outputId": "a25756e8-919d-4e77-b0c7-ca780e2cbbd7",
        "colab": {
          "base_uri": "https://localhost:8080/",
          "height": 35
        }
      },
      "source": [
        "fs(0), fs(1), fs(2), fs(3), fs(4), fs(5), fs(6), fs(7), fs(8), fs(9)"
      ],
      "execution_count": 16,
      "outputs": [
        {
          "output_type": "execute_result",
          "data": {
            "text/plain": [
              "(0, 1, 1, 2, 3, 5, 8, 13, 21, 34)"
            ]
          },
          "metadata": {
            "tags": []
          },
          "execution_count": 16
        }
      ]
    },
    {
      "cell_type": "markdown",
      "metadata": {
        "id": "-5Jm_PLObMPb"
      },
      "source": [
        "# **問題3. 根據費氏公式，第12個月的時候兔子有幾隻？**"
      ]
    },
    {
      "cell_type": "code",
      "metadata": {
        "id": "0AghiBxEbdoB",
        "outputId": "f59ab119-1a3c-4374-942f-bebced5a03db",
        "colab": {
          "base_uri": "https://localhost:8080/",
          "height": 35
        }
      },
      "source": [
        "fs(12)"
      ],
      "execution_count": 9,
      "outputs": [
        {
          "output_type": "execute_result",
          "data": {
            "text/plain": [
              "144"
            ]
          },
          "metadata": {
            "tags": []
          },
          "execution_count": 9
        }
      ]
    }
  ]
}